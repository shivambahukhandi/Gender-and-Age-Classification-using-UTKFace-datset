{
 "cells": [
  {
   "cell_type": "markdown",
   "id": "6cbe5dce",
   "metadata": {},
   "source": [
    "# Age and Gender prediction using Deep Learning "
   ]
  },
  {
   "cell_type": "markdown",
   "id": "42123224",
   "metadata": {},
   "source": [
    "***Importing the necessary libraries***\n"
   ]
  },
  {
   "cell_type": "code",
   "execution_count": 1,
   "id": "8effae4a",
   "metadata": {
    "_cell_guid": "b1076dfc-b9ad-4769-8c92-a6c4dae69d19",
    "_uuid": "8f2839f25d086af736a60e9eeb907d3b93b6e0e5",
    "execution": {
     "iopub.execute_input": "2022-06-29T14:32:15.469612Z",
     "iopub.status.busy": "2022-06-29T14:32:15.468354Z",
     "iopub.status.idle": "2022-06-29T14:32:21.943885Z",
     "shell.execute_reply": "2022-06-29T14:32:21.942631Z"
    },
    "papermill": {
     "duration": 6.484501,
     "end_time": "2022-06-29T14:32:21.946906",
     "exception": false,
     "start_time": "2022-06-29T14:32:15.462405",
     "status": "completed"
    },
    "tags": []
   },
   "outputs": [],
   "source": [
    "import cv2\n",
    "import os\n",
    "import numpy as np\n",
    "import tensorflow as tf\n"
   ]
  },
  {
   "cell_type": "code",
   "execution_count": 2,
   "id": "16828bdc",
   "metadata": {},
   "outputs": [],
   "source": [
    "from tensorflow.keras.models import Sequential,Model\n",
    "from tensorflow.keras.layers import Conv2D,Flatten,Dense,Input,Dropout\n",
    "from tensorflow.keras.applications import EfficientNetB1\n",
    "from tensorflow.keras.preprocessing import image as img_preProcess"
   ]
  },
  {
   "cell_type": "markdown",
   "id": "1e6aac21",
   "metadata": {},
   "source": [
    "***Applying Neural network***\n"
   ]
  },
  {
   "cell_type": "code",
   "execution_count": 3,
   "id": "f450edaa",
   "metadata": {
    "execution": {
     "iopub.execute_input": "2022-06-29T14:32:21.971145Z",
     "iopub.status.busy": "2022-06-29T14:32:21.970738Z",
     "iopub.status.idle": "2022-06-29T14:32:30.391867Z",
     "shell.execute_reply": "2022-06-29T14:32:30.390502Z"
    },
    "papermill": {
     "duration": 8.428258,
     "end_time": "2022-06-29T14:32:30.394795",
     "exception": false,
     "start_time": "2022-06-29T14:32:21.966537",
     "status": "completed"
    },
    "tags": []
   },
   "outputs": [
    {
     "name": "stderr",
     "output_type": "stream",
     "text": [
      "2022-06-29 14:32:22.086728: I tensorflow/stream_executor/cuda/cuda_gpu_executor.cc:937] successful NUMA node read from SysFS had negative value (-1), but there must be at least one NUMA node, so returning NUMA node zero\n",
      "2022-06-29 14:32:22.225128: I tensorflow/stream_executor/cuda/cuda_gpu_executor.cc:937] successful NUMA node read from SysFS had negative value (-1), but there must be at least one NUMA node, so returning NUMA node zero\n",
      "2022-06-29 14:32:22.226299: I tensorflow/stream_executor/cuda/cuda_gpu_executor.cc:937] successful NUMA node read from SysFS had negative value (-1), but there must be at least one NUMA node, so returning NUMA node zero\n",
      "2022-06-29 14:32:22.228225: I tensorflow/core/platform/cpu_feature_guard.cc:142] This TensorFlow binary is optimized with oneAPI Deep Neural Network Library (oneDNN) to use the following CPU instructions in performance-critical operations:  AVX2 FMA\n",
      "To enable them in other operations, rebuild TensorFlow with the appropriate compiler flags.\n",
      "2022-06-29 14:32:22.234655: I tensorflow/stream_executor/cuda/cuda_gpu_executor.cc:937] successful NUMA node read from SysFS had negative value (-1), but there must be at least one NUMA node, so returning NUMA node zero\n",
      "2022-06-29 14:32:22.235668: I tensorflow/stream_executor/cuda/cuda_gpu_executor.cc:937] successful NUMA node read from SysFS had negative value (-1), but there must be at least one NUMA node, so returning NUMA node zero\n",
      "2022-06-29 14:32:22.236705: I tensorflow/stream_executor/cuda/cuda_gpu_executor.cc:937] successful NUMA node read from SysFS had negative value (-1), but there must be at least one NUMA node, so returning NUMA node zero\n",
      "2022-06-29 14:32:24.866191: I tensorflow/stream_executor/cuda/cuda_gpu_executor.cc:937] successful NUMA node read from SysFS had negative value (-1), but there must be at least one NUMA node, so returning NUMA node zero\n",
      "2022-06-29 14:32:24.867291: I tensorflow/stream_executor/cuda/cuda_gpu_executor.cc:937] successful NUMA node read from SysFS had negative value (-1), but there must be at least one NUMA node, so returning NUMA node zero\n",
      "2022-06-29 14:32:24.868278: I tensorflow/stream_executor/cuda/cuda_gpu_executor.cc:937] successful NUMA node read from SysFS had negative value (-1), but there must be at least one NUMA node, so returning NUMA node zero\n",
      "2022-06-29 14:32:24.869193: I tensorflow/core/common_runtime/gpu/gpu_device.cc:1510] Created device /job:localhost/replica:0/task:0/device:GPU:0 with 15403 MB memory:  -> device: 0, name: Tesla P100-PCIE-16GB, pci bus id: 0000:00:04.0, compute capability: 6.0\n"
     ]
    },
    {
     "name": "stdout",
     "output_type": "stream",
     "text": [
      "Downloading data from https://storage.googleapis.com/keras-applications/efficientnetb1_notop.h5\n",
      "27025408/27018416 [==============================] - 1s 0us/step\n",
      "27033600/27018416 [==============================] - 1s 0us/step\n"
     ]
    }
   ],
   "source": [
    "dropout = Dropout(0.1)\n",
    "inp = Input((248,248,3))\n",
    "\n",
    "model=EfficientNetB1(include_top=False,weights='imagenet',input_shape=(248,248,3))(inp)\n",
    "model=Conv2D(2000, kernel_size=7,activation='swish')(model)\n",
    "model=Flatten()(model)\n",
    "model=Dense(2000,activation='swish')(model)\n",
    "oupt1=Dense(2,activation='softmax',name='gen')(model)\n",
    "oupt2=Dense(1,activation='relu',name='age')(model)\n",
    "model = Model(inp, [oupt1,oupt2])\n",
    "\n"
   ]
  },
  {
   "cell_type": "markdown",
   "id": "2a2ee011",
   "metadata": {},
   "source": [
    "***Compiling the model***\n"
   ]
  },
  {
   "cell_type": "code",
   "execution_count": 5,
   "id": "ec5df1d4",
   "metadata": {
    "execution": {
     "iopub.execute_input": "2022-06-29T14:32:30.422579Z",
     "iopub.status.busy": "2022-06-29T14:32:30.422244Z",
     "iopub.status.idle": "2022-06-29T14:32:30.449313Z",
     "shell.execute_reply": "2022-06-29T14:32:30.447909Z"
    },
    "papermill": {
     "duration": 0.034486,
     "end_time": "2022-06-29T14:32:30.451924",
     "exception": false,
     "start_time": "2022-06-29T14:32:30.417438",
     "status": "completed"
    },
    "tags": []
   },
   "outputs": [],
   "source": [
    "model.compile(loss={'gen':'sparse_categorical_crossentropy','age':'mean_absolute_error'}, \n",
    "                    \n",
    "              optimizer='adam',\n",
    "              metrics={'gen':'accuracy','age':'mae'})\n"
   ]
  },
  {
   "cell_type": "markdown",
   "id": "92b0b16d",
   "metadata": {},
   "source": [
    "***Summarising the layers and images shapes***\n"
   ]
  },
  {
   "cell_type": "code",
   "execution_count": 6,
   "id": "bc2f2b06",
   "metadata": {
    "execution": {
     "iopub.execute_input": "2022-06-29T14:32:30.462707Z",
     "iopub.status.busy": "2022-06-29T14:32:30.460963Z",
     "iopub.status.idle": "2022-06-29T14:32:30.489674Z",
     "shell.execute_reply": "2022-06-29T14:32:30.487582Z"
    },
    "papermill": {
     "duration": 0.036357,
     "end_time": "2022-06-29T14:32:30.492284",
     "exception": false,
     "start_time": "2022-06-29T14:32:30.455927",
     "status": "completed"
    },
    "tags": []
   },
   "outputs": [
    {
     "name": "stdout",
     "output_type": "stream",
     "text": [
      "Model: \"model\"\n",
      "__________________________________________________________________________________________________\n",
      "Layer (type)                    Output Shape         Param #     Connected to                     \n",
      "==================================================================================================\n",
      "input_1 (InputLayer)            [(None, 248, 248, 3) 0                                            \n",
      "__________________________________________________________________________________________________\n",
      "efficientnetb1 (Functional)     (None, 8, 8, 1280)   6575239     input_1[0][0]                    \n",
      "__________________________________________________________________________________________________\n",
      "conv2d (Conv2D)                 (None, 2, 2, 2000)   125442000   efficientnetb1[0][0]             \n",
      "__________________________________________________________________________________________________\n",
      "flatten (Flatten)               (None, 8000)         0           conv2d[0][0]                     \n",
      "__________________________________________________________________________________________________\n",
      "dense (Dense)                   (None, 2000)         16002000    flatten[0][0]                    \n",
      "__________________________________________________________________________________________________\n",
      "gen (Dense)                     (None, 2)            4002        dense[0][0]                      \n",
      "__________________________________________________________________________________________________\n",
      "age (Dense)                     (None, 1)            2001        dense[0][0]                      \n",
      "==================================================================================================\n",
      "Total params: 148,025,242\n",
      "Trainable params: 147,963,187\n",
      "Non-trainable params: 62,055\n",
      "__________________________________________________________________________________________________\n"
     ]
    }
   ],
   "source": [
    "model.summary()\n",
    "tf.config.run_functions_eagerly(True)"
   ]
  },
  {
   "cell_type": "markdown",
   "id": "1d3f07c8",
   "metadata": {},
   "source": [
    "***Running the epochs***\n"
   ]
  },
  {
   "cell_type": "code",
   "execution_count": 7,
   "id": "61fe7f84",
   "metadata": {
    "execution": {
     "iopub.execute_input": "2022-06-29T14:32:30.502879Z",
     "iopub.status.busy": "2022-06-29T14:32:30.501804Z",
     "iopub.status.idle": "2022-06-29T15:01:48.973334Z",
     "shell.execute_reply": "2022-06-29T15:01:48.971657Z"
    },
    "papermill": {
     "duration": 1758.479925,
     "end_time": "2022-06-29T15:01:48.976315",
     "exception": false,
     "start_time": "2022-06-29T14:32:30.496390",
     "status": "completed"
    },
    "tags": []
   },
   "outputs": [
    {
     "name": "stdout",
     "output_type": "stream",
     "text": [
      "epoch 0\n"
     ]
    },
    {
     "name": "stderr",
     "output_type": "stream",
     "text": [
      "/opt/conda/lib/python3.7/site-packages/tensorflow/python/data/ops/dataset_ops.py:4212: UserWarning: Even though the `tf.config.experimental_run_functions_eagerly` option is set, this option does not apply to tf.data functions. To force eager execution of tf.data functions, please use `tf.data.experimental.enable_debug_mode()`.\n",
      "  \"Even though the `tf.config.experimental_run_functions_eagerly` \"\n",
      "2022-06-29 14:32:35.872332: I tensorflow/compiler/mlir/mlir_graph_optimization_pass.cc:185] None of the MLIR Optimization Passes are enabled (registered 2)\n",
      "2022-06-29 14:32:36.943032: I tensorflow/stream_executor/cuda/cuda_dnn.cc:369] Loaded cuDNN version 8005\n"
     ]
    },
    {
     "name": "stdout",
     "output_type": "stream",
     "text": [
      "32/32 [==============================] - 35s 824ms/step - loss: 37.8910 - gen_loss: 7.2310 - age_loss: 30.6600 - gen_accuracy: 0.6610 - age_mae: 30.6600\n",
      "32/32 [==============================] - 26s 810ms/step - loss: 12.4626 - gen_loss: 0.9143 - age_loss: 11.5483 - gen_accuracy: 0.7320 - age_mae: 11.5483\n",
      "32/32 [==============================] - 26s 824ms/step - loss: 11.6515 - gen_loss: 0.5826 - age_loss: 11.0689 - gen_accuracy: 0.7770 - age_mae: 11.0689\n",
      "32/32 [==============================] - 26s 815ms/step - loss: 9.8783 - gen_loss: 0.6193 - age_loss: 9.2590 - gen_accuracy: 0.7600 - age_mae: 9.2590\n",
      "32/32 [==============================] - 26s 798ms/step - loss: 10.4329 - gen_loss: 0.5827 - age_loss: 9.8502 - gen_accuracy: 0.7840 - age_mae: 9.8502\n",
      "32/32 [==============================] - 26s 808ms/step - loss: 10.4576 - gen_loss: 0.5201 - age_loss: 9.9375 - gen_accuracy: 0.7940 - age_mae: 9.9375\n",
      "32/32 [==============================] - 26s 804ms/step - loss: 8.9504 - gen_loss: 0.4298 - age_loss: 8.5206 - gen_accuracy: 0.8220 - age_mae: 8.5206\n",
      "32/32 [==============================] - 26s 812ms/step - loss: 8.5224 - gen_loss: 0.3890 - age_loss: 8.1334 - gen_accuracy: 0.8530 - age_mae: 8.1334\n",
      "32/32 [==============================] - 26s 793ms/step - loss: 8.6816 - gen_loss: 0.4508 - age_loss: 8.2309 - gen_accuracy: 0.8310 - age_mae: 8.2309\n",
      "32/32 [==============================] - 26s 804ms/step - loss: 8.7186 - gen_loss: 0.3870 - age_loss: 8.3316 - gen_accuracy: 0.8430 - age_mae: 8.3316\n",
      "32/32 [==============================] - 26s 803ms/step - loss: 7.8276 - gen_loss: 0.3574 - age_loss: 7.4702 - gen_accuracy: 0.8350 - age_mae: 7.4702\n",
      "32/32 [==============================] - 26s 807ms/step - loss: 7.4996 - gen_loss: 0.4209 - age_loss: 7.0788 - gen_accuracy: 0.8210 - age_mae: 7.0788\n",
      "32/32 [==============================] - 26s 800ms/step - loss: 7.5581 - gen_loss: 0.3679 - age_loss: 7.1902 - gen_accuracy: 0.8480 - age_mae: 7.1902\n",
      "32/32 [==============================] - 26s 800ms/step - loss: 8.0112 - gen_loss: 0.3492 - age_loss: 7.6620 - gen_accuracy: 0.8600 - age_mae: 7.6620\n",
      "32/32 [==============================] - 26s 795ms/step - loss: 7.8063 - gen_loss: 0.4046 - age_loss: 7.4017 - gen_accuracy: 0.8360 - age_mae: 7.4017\n",
      "32/32 [==============================] - 25s 782ms/step - loss: 7.4817 - gen_loss: 0.3964 - age_loss: 7.0853 - gen_accuracy: 0.8360 - age_mae: 7.0853\n",
      "32/32 [==============================] - 26s 808ms/step - loss: 7.2504 - gen_loss: 0.3561 - age_loss: 6.8943 - gen_accuracy: 0.8520 - age_mae: 6.8943\n",
      "32/32 [==============================] - 26s 807ms/step - loss: 6.9904 - gen_loss: 0.4377 - age_loss: 6.5527 - gen_accuracy: 0.8420 - age_mae: 6.5527\n",
      "32/32 [==============================] - 26s 817ms/step - loss: 7.2961 - gen_loss: 0.2868 - age_loss: 7.0093 - gen_accuracy: 0.8990 - age_mae: 7.0093\n",
      "32/32 [==============================] - 26s 809ms/step - loss: 6.6632 - gen_loss: 0.3051 - age_loss: 6.3581 - gen_accuracy: 0.8730 - age_mae: 6.3581\n",
      "32/32 [==============================] - 26s 806ms/step - loss: 6.9276 - gen_loss: 0.3115 - age_loss: 6.6161 - gen_accuracy: 0.8740 - age_mae: 6.6161\n",
      "32/32 [==============================] - 26s 812ms/step - loss: 7.2959 - gen_loss: 0.3569 - age_loss: 6.9390 - gen_accuracy: 0.8570 - age_mae: 6.9390\n",
      "32/32 [==============================] - 26s 805ms/step - loss: 6.9484 - gen_loss: 0.3060 - age_loss: 6.6424 - gen_accuracy: 0.8800 - age_mae: 6.6424\n",
      "epoch 1\n",
      "32/32 [==============================] - 25s 795ms/step - loss: 7.1010 - gen_loss: 0.2466 - age_loss: 6.8544 - gen_accuracy: 0.9000 - age_mae: 6.8544\n",
      "32/32 [==============================] - 26s 799ms/step - loss: 6.5541 - gen_loss: 0.3147 - age_loss: 6.2394 - gen_accuracy: 0.8730 - age_mae: 6.2394\n",
      "32/32 [==============================] - 26s 811ms/step - loss: 6.9603 - gen_loss: 0.2301 - age_loss: 6.7302 - gen_accuracy: 0.9080 - age_mae: 6.7302\n",
      "32/32 [==============================] - 26s 808ms/step - loss: 6.7164 - gen_loss: 0.2615 - age_loss: 6.4549 - gen_accuracy: 0.8900 - age_mae: 6.4549\n",
      "32/32 [==============================] - 26s 806ms/step - loss: 6.0994 - gen_loss: 0.2745 - age_loss: 5.8249 - gen_accuracy: 0.8870 - age_mae: 5.8249\n",
      "32/32 [==============================] - 26s 798ms/step - loss: 6.5797 - gen_loss: 0.3046 - age_loss: 6.2750 - gen_accuracy: 0.8830 - age_mae: 6.2750\n",
      "32/32 [==============================] - 25s 793ms/step - loss: 5.8634 - gen_loss: 0.2154 - age_loss: 5.6480 - gen_accuracy: 0.9060 - age_mae: 5.6480\n",
      "32/32 [==============================] - 26s 808ms/step - loss: 6.1077 - gen_loss: 0.2714 - age_loss: 5.8363 - gen_accuracy: 0.8800 - age_mae: 5.8363\n",
      "32/32 [==============================] - 26s 797ms/step - loss: 6.1258 - gen_loss: 0.2685 - age_loss: 5.8573 - gen_accuracy: 0.8860 - age_mae: 5.8573\n",
      "32/32 [==============================] - 26s 811ms/step - loss: 6.0206 - gen_loss: 0.2287 - age_loss: 5.7919 - gen_accuracy: 0.9160 - age_mae: 5.7919\n",
      "32/32 [==============================] - 26s 814ms/step - loss: 6.1628 - gen_loss: 0.2535 - age_loss: 5.9092 - gen_accuracy: 0.8950 - age_mae: 5.9092\n",
      "32/32 [==============================] - 26s 816ms/step - loss: 6.1772 - gen_loss: 0.2843 - age_loss: 5.8929 - gen_accuracy: 0.8650 - age_mae: 5.8929\n",
      "32/32 [==============================] - 26s 809ms/step - loss: 6.1648 - gen_loss: 0.4283 - age_loss: 5.7365 - gen_accuracy: 0.8570 - age_mae: 5.7365\n",
      "32/32 [==============================] - 26s 800ms/step - loss: 6.7636 - gen_loss: 0.3465 - age_loss: 6.4171 - gen_accuracy: 0.8690 - age_mae: 6.4171\n",
      "32/32 [==============================] - 26s 807ms/step - loss: 5.7521 - gen_loss: 0.2450 - age_loss: 5.5071 - gen_accuracy: 0.8980 - age_mae: 5.5071\n",
      "32/32 [==============================] - 26s 807ms/step - loss: 5.6733 - gen_loss: 0.2442 - age_loss: 5.4291 - gen_accuracy: 0.8930 - age_mae: 5.4291\n",
      "32/32 [==============================] - 26s 802ms/step - loss: 6.3780 - gen_loss: 0.3372 - age_loss: 6.0408 - gen_accuracy: 0.8760 - age_mae: 6.0408\n",
      "32/32 [==============================] - 25s 776ms/step - loss: 6.0738 - gen_loss: 0.2474 - age_loss: 5.8264 - gen_accuracy: 0.8960 - age_mae: 5.8264\n",
      "32/32 [==============================] - 25s 796ms/step - loss: 6.2252 - gen_loss: 0.2855 - age_loss: 5.9398 - gen_accuracy: 0.8860 - age_mae: 5.9398\n",
      "32/32 [==============================] - 25s 777ms/step - loss: 6.2214 - gen_loss: 0.2594 - age_loss: 5.9620 - gen_accuracy: 0.8920 - age_mae: 5.9620\n",
      "32/32 [==============================] - 26s 797ms/step - loss: 5.8089 - gen_loss: 0.2532 - age_loss: 5.5558 - gen_accuracy: 0.9000 - age_mae: 5.5558\n",
      "32/32 [==============================] - 25s 786ms/step - loss: 5.5743 - gen_loss: 0.2393 - age_loss: 5.3350 - gen_accuracy: 0.9040 - age_mae: 5.3350\n",
      "32/32 [==============================] - 25s 787ms/step - loss: 5.7244 - gen_loss: 0.2434 - age_loss: 5.4810 - gen_accuracy: 0.8960 - age_mae: 5.4810\n"
     ]
    }
   ],
   "source": [
    "for i in range(2):\n",
    "    print('epoch',i)\n",
    "    for i in range(0,23000,1000):\n",
    "        path = \"../input/utkface-new/UTKFace/\"\n",
    "        loc = os.listdir(path)\n",
    "        loc=loc[i:i+1000]\n",
    "        data = []\n",
    "        age = []\n",
    "        gender = []\n",
    "        #[0=MAle , 1=Female]\n",
    "        for i in loc:\n",
    "            img = cv2.imread(path+i)\n",
    "            img = cv2.resize(img,(248,248))\n",
    "            data.append(img)\n",
    "            atributes= i.split('_')\n",
    "            age.append(float(atributes[0]))\n",
    "            gender.append(int(atributes[1]))\n",
    "        data=np.array(data)\n",
    "        age=np.array(age)\n",
    "        gender=np.array(gender)\n",
    "        \n",
    "        model.fit(data,[gender,age],epochs=1,batch_size=32)\n",
    "        "
   ]
  },
  {
   "cell_type": "markdown",
   "id": "0eab4c8b",
   "metadata": {},
   "source": [
    "***Saving the model***"
   ]
  },
  {
   "cell_type": "code",
   "execution_count": 8,
   "id": "461a9ea2",
   "metadata": {
    "execution": {
     "iopub.execute_input": "2022-06-29T15:01:49.197145Z",
     "iopub.status.busy": "2022-06-29T15:01:49.196297Z",
     "iopub.status.idle": "2022-06-29T15:01:54.561534Z",
     "shell.execute_reply": "2022-06-29T15:01:54.560164Z"
    },
    "papermill": {
     "duration": 5.480215,
     "end_time": "2022-06-29T15:01:54.564943",
     "exception": false,
     "start_time": "2022-06-29T15:01:49.084728",
     "status": "completed"
    },
    "tags": []
   },
   "outputs": [
    {
     "name": "stderr",
     "output_type": "stream",
     "text": [
      "/opt/conda/lib/python3.7/site-packages/keras/utils/generic_utils.py:497: CustomMaskWarning: Custom mask layers require a config and must override get_config. When loading, the custom mask layer must be passed to the custom_objects argument.\n",
      "  category=CustomMaskWarning)\n"
     ]
    }
   ],
   "source": [
    "model.save('md1.h5')"
   ]
  },
  {
   "cell_type": "code",
   "execution_count": null,
   "id": "43460e21",
   "metadata": {
    "papermill": {
     "duration": 0.438023,
     "end_time": "2022-06-29T15:01:57.544620",
     "exception": false,
     "start_time": "2022-06-29T15:01:57.106597",
     "status": "completed"
    },
    "tags": []
   },
   "outputs": [],
   "source": []
  }
 ],
 "metadata": {
  "kernelspec": {
   "display_name": "Python 3 (ipykernel)",
   "language": "python",
   "name": "python3"
  },
  "language_info": {
   "codemirror_mode": {
    "name": "ipython",
    "version": 3
   },
   "file_extension": ".py",
   "mimetype": "text/x-python",
   "name": "python",
   "nbconvert_exporter": "python",
   "pygments_lexer": "ipython3",
   "version": "3.10.5"
  },
  "papermill": {
   "default_parameters": {},
   "duration": 1794.515729,
   "end_time": "2022-06-29T15:02:00.477629",
   "environment_variables": {},
   "exception": null,
   "input_path": "__notebook__.ipynb",
   "output_path": "__notebook__.ipynb",
   "parameters": {},
   "start_time": "2022-06-29T14:32:05.961900",
   "version": "2.3.4"
  }
 },
 "nbformat": 4,
 "nbformat_minor": 5
}
